{
  "nbformat": 4,
  "nbformat_minor": 0,
  "metadata": {
    "colab": {
      "provenance": [],
      "authorship_tag": "ABX9TyNIQI3M6zQo2tk5/nRl73c7",
      "include_colab_link": true
    },
    "kernelspec": {
      "name": "python3",
      "display_name": "Python 3"
    },
    "language_info": {
      "name": "python"
    }
  },
  "cells": [
    {
      "cell_type": "markdown",
      "metadata": {
        "id": "view-in-github",
        "colab_type": "text"
      },
      "source": [
        "<a href=\"https://colab.research.google.com/github/daham-13/CM2604-Coursework/blob/main/CM2604_Coursework_2330906.ipynb\" target=\"_parent\"><img src=\"https://colab.research.google.com/assets/colab-badge.svg\" alt=\"Open In Colab\"/></a>"
      ]
    },
    {
      "cell_type": "markdown",
      "source": [
        "# Load Data"
      ],
      "metadata": {
        "id": "z60fRsfjx-NH"
      }
    },
    {
      "cell_type": "code",
      "execution_count": 11,
      "metadata": {
        "colab": {
          "base_uri": "https://localhost:8080/"
        },
        "id": "XnoHjiDVopC-",
        "outputId": "e57c5e59-37a9-45d5-87e1-55c0c8a6aecd"
      },
      "outputs": [
        {
          "output_type": "stream",
          "name": "stdout",
          "text": [
            "Requirement already satisfied: ucimlrepo in /usr/local/lib/python3.10/dist-packages (0.0.7)\n",
            "Requirement already satisfied: pandas>=1.0.0 in /usr/local/lib/python3.10/dist-packages (from ucimlrepo) (2.2.2)\n",
            "Requirement already satisfied: certifi>=2020.12.5 in /usr/local/lib/python3.10/dist-packages (from ucimlrepo) (2024.12.14)\n",
            "Requirement already satisfied: numpy>=1.22.4 in /usr/local/lib/python3.10/dist-packages (from pandas>=1.0.0->ucimlrepo) (1.26.4)\n",
            "Requirement already satisfied: python-dateutil>=2.8.2 in /usr/local/lib/python3.10/dist-packages (from pandas>=1.0.0->ucimlrepo) (2.8.2)\n",
            "Requirement already satisfied: pytz>=2020.1 in /usr/local/lib/python3.10/dist-packages (from pandas>=1.0.0->ucimlrepo) (2024.2)\n",
            "Requirement already satisfied: tzdata>=2022.7 in /usr/local/lib/python3.10/dist-packages (from pandas>=1.0.0->ucimlrepo) (2024.2)\n",
            "Requirement already satisfied: six>=1.5 in /usr/local/lib/python3.10/dist-packages (from python-dateutil>=2.8.2->pandas>=1.0.0->ucimlrepo) (1.17.0)\n"
          ]
        }
      ],
      "source": [
        "#instal ucimlrepo library for fetching data\n",
        "!pip install ucimlrepo"
      ]
    },
    {
      "cell_type": "code",
      "source": [
        "from ucimlrepo import fetch_ucirepo\n",
        "\n",
        "# fetch dataset\n",
        "bank_marketing = fetch_ucirepo(id=222)\n",
        "\n",
        "# data (as pandas dataframes)\n",
        "X = bank_marketing.data.features\n",
        "y = bank_marketing.data.targets"
      ],
      "metadata": {
        "id": "jhoLnsI6ynBH"
      },
      "execution_count": 15,
      "outputs": []
    },
    {
      "cell_type": "code",
      "source": [
        "import pandas as pd\n",
        "\n",
        "# Combine X (features) and y (target) into one DataFrame\n",
        "data = pd.concat([X, y], axis=1)\n",
        "\n",
        "# Check the combined DataFrame\n",
        "print(data.head())"
      ],
      "metadata": {
        "colab": {
          "base_uri": "https://localhost:8080/"
        },
        "id": "9hQrebooy9FQ",
        "outputId": "f33a3c56-d4a4-4837-fede-69e7cff5505b"
      },
      "execution_count": 19,
      "outputs": [
        {
          "output_type": "stream",
          "name": "stdout",
          "text": [
            "   age           job  marital  education default  balance housing loan  \\\n",
            "0   58    management  married   tertiary      no     2143     yes   no   \n",
            "1   44    technician   single  secondary      no       29     yes   no   \n",
            "2   33  entrepreneur  married  secondary      no        2     yes  yes   \n",
            "3   47   blue-collar  married        NaN      no     1506     yes   no   \n",
            "4   33           NaN   single        NaN      no        1      no   no   \n",
            "\n",
            "  contact  day_of_week month  duration  campaign  pdays  previous poutcome   y  \n",
            "0     NaN            5   may       261         1     -1         0      NaN  no  \n",
            "1     NaN            5   may       151         1     -1         0      NaN  no  \n",
            "2     NaN            5   may        76         1     -1         0      NaN  no  \n",
            "3     NaN            5   may        92         1     -1         0      NaN  no  \n",
            "4     NaN            5   may       198         1     -1         0      NaN  no  \n"
          ]
        }
      ]
    },
    {
      "cell_type": "markdown",
      "source": [
        "# Data Preprocessing"
      ],
      "metadata": {
        "id": "ys3WaGBv0lO8"
      }
    },
    {
      "cell_type": "markdown",
      "source": [
        "### Data Overview"
      ],
      "metadata": {
        "id": "cYpvdr_A2M9s"
      }
    },
    {
      "cell_type": "code",
      "source": [
        "#Basic information of data\n",
        "\n",
        "# General Information\n",
        "print(data.info())  # Data types, non-null counts, and memory usage\n",
        "\n",
        "# Summary Statistics\n",
        "print(data.describe(include=\"all\"))  # Summary for numerical and categorical columns\n",
        "\n",
        "# Shape of the Data\n",
        "print(f\"Dataset contains {data.shape[0]} rows and {data.shape[1]} columns.\")\n"
      ],
      "metadata": {
        "colab": {
          "base_uri": "https://localhost:8080/"
        },
        "id": "vgfblx1_2Pe0",
        "outputId": "2a9abeb2-df14-4798-c981-c71bafad9e10"
      },
      "execution_count": 22,
      "outputs": [
        {
          "output_type": "stream",
          "name": "stdout",
          "text": [
            "<class 'pandas.core.frame.DataFrame'>\n",
            "RangeIndex: 45211 entries, 0 to 45210\n",
            "Data columns (total 17 columns):\n",
            " #   Column       Non-Null Count  Dtype \n",
            "---  ------       --------------  ----- \n",
            " 0   age          45211 non-null  int64 \n",
            " 1   job          44923 non-null  object\n",
            " 2   marital      45211 non-null  object\n",
            " 3   education    43354 non-null  object\n",
            " 4   default      45211 non-null  object\n",
            " 5   balance      45211 non-null  int64 \n",
            " 6   housing      45211 non-null  object\n",
            " 7   loan         45211 non-null  object\n",
            " 8   contact      32191 non-null  object\n",
            " 9   day_of_week  45211 non-null  int64 \n",
            " 10  month        45211 non-null  object\n",
            " 11  duration     45211 non-null  int64 \n",
            " 12  campaign     45211 non-null  int64 \n",
            " 13  pdays        45211 non-null  int64 \n",
            " 14  previous     45211 non-null  int64 \n",
            " 15  poutcome     8252 non-null   object\n",
            " 16  y            45211 non-null  object\n",
            "dtypes: int64(7), object(10)\n",
            "memory usage: 5.9+ MB\n",
            "None\n",
            "                 age          job  marital  education default        balance  \\\n",
            "count   45211.000000        44923    45211      43354   45211   45211.000000   \n",
            "unique           NaN           11        3          3       2            NaN   \n",
            "top              NaN  blue-collar  married  secondary      no            NaN   \n",
            "freq             NaN         9732    27214      23202   44396            NaN   \n",
            "mean       40.936210          NaN      NaN        NaN     NaN    1362.272058   \n",
            "std        10.618762          NaN      NaN        NaN     NaN    3044.765829   \n",
            "min        18.000000          NaN      NaN        NaN     NaN   -8019.000000   \n",
            "25%        33.000000          NaN      NaN        NaN     NaN      72.000000   \n",
            "50%        39.000000          NaN      NaN        NaN     NaN     448.000000   \n",
            "75%        48.000000          NaN      NaN        NaN     NaN    1428.000000   \n",
            "max        95.000000          NaN      NaN        NaN     NaN  102127.000000   \n",
            "\n",
            "       housing   loan   contact   day_of_week  month      duration  \\\n",
            "count    45211  45211     32191  45211.000000  45211  45211.000000   \n",
            "unique       2      2         2           NaN     12           NaN   \n",
            "top        yes     no  cellular           NaN    may           NaN   \n",
            "freq     25130  37967     29285           NaN  13766           NaN   \n",
            "mean       NaN    NaN       NaN     15.806419    NaN    258.163080   \n",
            "std        NaN    NaN       NaN      8.322476    NaN    257.527812   \n",
            "min        NaN    NaN       NaN      1.000000    NaN      0.000000   \n",
            "25%        NaN    NaN       NaN      8.000000    NaN    103.000000   \n",
            "50%        NaN    NaN       NaN     16.000000    NaN    180.000000   \n",
            "75%        NaN    NaN       NaN     21.000000    NaN    319.000000   \n",
            "max        NaN    NaN       NaN     31.000000    NaN   4918.000000   \n",
            "\n",
            "            campaign         pdays      previous poutcome      y  \n",
            "count   45211.000000  45211.000000  45211.000000     8252  45211  \n",
            "unique           NaN           NaN           NaN        3      2  \n",
            "top              NaN           NaN           NaN  failure     no  \n",
            "freq             NaN           NaN           NaN     4901  39922  \n",
            "mean        2.763841     40.197828      0.580323      NaN    NaN  \n",
            "std         3.098021    100.128746      2.303441      NaN    NaN  \n",
            "min         1.000000     -1.000000      0.000000      NaN    NaN  \n",
            "25%         1.000000     -1.000000      0.000000      NaN    NaN  \n",
            "50%         2.000000     -1.000000      0.000000      NaN    NaN  \n",
            "75%         3.000000     -1.000000      0.000000      NaN    NaN  \n",
            "max        63.000000    871.000000    275.000000      NaN    NaN  \n",
            "Dataset contains 45211 rows and 17 columns.\n"
          ]
        }
      ]
    },
    {
      "cell_type": "code",
      "source": [
        "#Null values\n",
        "\n",
        "missing_values = data.isnull().sum()\n",
        "print(\"Missing Values:\\n\", missing_values)\n",
        "\n",
        "missing_presentage = (data.isnull().sum() / len(data)) * 100\n",
        "print(\"\\nMissing Values Percentage:\\n\", missing_presentage)"
      ],
      "metadata": {
        "colab": {
          "base_uri": "https://localhost:8080/"
        },
        "id": "CoY1MpMc2TyE",
        "outputId": "aa5c45b7-ca4b-4edf-f136-45cf5134c796"
      },
      "execution_count": 24,
      "outputs": [
        {
          "output_type": "stream",
          "name": "stdout",
          "text": [
            "Missing Values:\n",
            " age                0\n",
            "job              288\n",
            "marital            0\n",
            "education       1857\n",
            "default            0\n",
            "balance            0\n",
            "housing            0\n",
            "loan               0\n",
            "contact        13020\n",
            "day_of_week        0\n",
            "month              0\n",
            "duration           0\n",
            "campaign           0\n",
            "pdays              0\n",
            "previous           0\n",
            "poutcome       36959\n",
            "y                  0\n",
            "dtype: int64\n",
            "\n",
            "Missing Values Percentage:\n",
            " age             0.000000\n",
            "job             0.637013\n",
            "marital         0.000000\n",
            "education       4.107407\n",
            "default         0.000000\n",
            "balance         0.000000\n",
            "housing         0.000000\n",
            "loan            0.000000\n",
            "contact        28.798301\n",
            "day_of_week     0.000000\n",
            "month           0.000000\n",
            "duration        0.000000\n",
            "campaign        0.000000\n",
            "pdays           0.000000\n",
            "previous        0.000000\n",
            "poutcome       81.747805\n",
            "y               0.000000\n",
            "dtype: float64\n"
          ]
        }
      ]
    },
    {
      "cell_type": "code",
      "source": [
        "#Duplicate Data\n",
        "\n",
        "# Count Duplicate Rows\n",
        "duplicates = data.duplicated().sum()\n",
        "print(f\"Number of duplicate rows: {duplicates}\")"
      ],
      "metadata": {
        "colab": {
          "base_uri": "https://localhost:8080/"
        },
        "id": "QfkDuUyn24Wk",
        "outputId": "25f313fb-57fd-416b-ac1f-aaae9f9c26f0"
      },
      "execution_count": 25,
      "outputs": [
        {
          "output_type": "stream",
          "name": "stdout",
          "text": [
            "Number of duplicate rows: 0\n"
          ]
        }
      ]
    }
  ]
}